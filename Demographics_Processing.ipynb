{
 "cells": [
  {
   "cell_type": "markdown",
   "id": "cc1435c9",
   "metadata": {},
   "source": [
    "# MD Demographics"
   ]
  },
  {
   "cell_type": "code",
   "execution_count": 1,
   "id": "0cba1103",
   "metadata": {},
   "outputs": [],
   "source": [
    "# Import relevant libraries\n",
    "import os, sys\n",
    "import pandas as pd, geopandas as gpd"
   ]
  },
  {
   "cell_type": "code",
   "execution_count": 2,
   "id": "642b72e1",
   "metadata": {},
   "outputs": [],
   "source": [
    "# Set Default Parameters\n",
    "path_in = r\"E:\\DHD_Solar\\Campaigns\\2023\\MD\\Q1\\GIS\\01_Working_Data\\Census\"\n",
    "fileIn_1 = \"X01_Population.csv\"\n",
    "fileIn_2 = \"X17_Poverty.csv\"\n",
    "json_in  = \"Tracts.geojson\"\n",
    "\n",
    "path_out = fr\"E:\\DHD_Solar\\Campaigns\\2023\\MD\\Q1\\GIS\\01_Working_Data\\Census\\output\"\n",
    "json_out = \"demographics.geojson\"\n",
    "\n",
    "# Makes sure the folder structure for the output exists and creates it if it does not.\n",
    "os.makedirs(path_out, exist_ok=True)"
   ]
  },
  {
   "cell_type": "markdown",
   "id": "3c2b932c",
   "metadata": {},
   "source": [
    "## Processing"
   ]
  },
  {
   "cell_type": "markdown",
   "id": "dcc747f1",
   "metadata": {},
   "source": [
    "The processing for this notebook is primarily to join demographic data to the corresponding census tracts for MD. Idealy, this process will also apply to other states without any major recoding.\n",
    "\n",
    "The processing will proceed as follows (Italic entries are conducted within ArcGIS prior to entering into script):\n",
    "1. *Filter fields view for the following fields*\n",
    "    - X01_SEX_AND_AGE\n",
    "        - B01001e1\n",
    "    - X17_POVERTY\n",
    "        - C17002e2\n",
    "        - C17002e3\n",
    "        - C17002e4\n",
    "        - C17002e5\n",
    "        - C17002e6\n",
    "        - C17002e7 \\\n",
    "        Note that sum of the fields in this table is the total population 1.99 times the poverty level and under.\n",
    "2. *Create \"Tract\" field as \"Double\" type in both tables and census tract shapefile table*\n",
    "3. *Calculate \"Tract\" field as \"!GEOID![7:]\" for tables and just as \"!GEOID!\" for the shapefile*\n",
    "4. *Export tables to new csv's in 01_Working_Data\\Census*\n",
    "5. *Export census tracts to GeoJSON*\n",
    "6. Load data into Demographics_Processing notebook\n",
    "7. Combine data based on Tract field into master GeoDataFrame\n",
    "8. Export new GeoJSON with compiled demographic data by census tract."
   ]
  },
  {
   "cell_type": "markdown",
   "id": "a6864035",
   "metadata": {},
   "source": [
    "### Load Data"
   ]
  },
  {
   "cell_type": "code",
   "execution_count": 3,
   "id": "28b63a80",
   "metadata": {},
   "outputs": [],
   "source": [
    "pop_df = pd.read_csv(f'{path_in}\\{fileIn_1}')\n",
    "pov_df = pd.read_csv(f'{path_in}\\{fileIn_2}')\n",
    "tracts = gpd.read_file(f'{path_in}\\{json_in}')"
   ]
  },
  {
   "cell_type": "code",
   "execution_count": 4,
   "id": "36b3d8dd",
   "metadata": {},
   "outputs": [],
   "source": [
    "tracts.drop(columns=['INTPTLAT', 'INTPTLON', 'ALAND', 'AWATER', 'FID'], inplace=True)"
   ]
  },
  {
   "cell_type": "code",
   "execution_count": 5,
   "id": "7ce37dc6",
   "metadata": {},
   "outputs": [],
   "source": [
    "# Create temporary dataframe for caluclations\n",
    "calc_df = pd.DataFrame(tracts['Tract'])"
   ]
  },
  {
   "cell_type": "code",
   "execution_count": 7,
   "id": "2ffe0c20",
   "metadata": {},
   "outputs": [],
   "source": [
    "pops = []\n",
    "povs = []\n",
    "\n",
    "# Collect values from dataframes\n",
    "for i in calc_df['Tract']:\n",
    "    pops.append(pop_df[pop_df['Tract'] == i]['B01001e1'].values[0])\n",
    "    povs.append(pov_df[pov_df['Tract'] == i][['C17002e2',\n",
    "                                             'C17002e3',\n",
    "                                             'C17002e4',\n",
    "                                             'C17002e5',\n",
    "                                             'C17002e6',\n",
    "                                             'C17002e7']].values.tolist())\n",
    "    \n",
    "# Sum our poverty numbers\n",
    "sums = []\n",
    "for i in povs:\n",
    "    for n in i:\n",
    "        #print(n)\n",
    "        f = [int(item) for item in n]\n",
    "        sums.append(sum(f))"
   ]
  },
  {
   "cell_type": "code",
   "execution_count": 9,
   "id": "a7710eef",
   "metadata": {},
   "outputs": [],
   "source": [
    "# Add lists to calc_df\n",
    "calc_df['Pop'] = pops\n",
    "calc_df['Poverty'] = sums"
   ]
  },
  {
   "cell_type": "code",
   "execution_count": 11,
   "id": "286b7a9d",
   "metadata": {},
   "outputs": [],
   "source": [
    "calc_df['perc_Poverty'] = calc_df['Poverty']/calc_df['Pop']"
   ]
  },
  {
   "cell_type": "code",
   "execution_count": 14,
   "id": "c999aeb8",
   "metadata": {},
   "outputs": [],
   "source": [
    "tracts['perc_Poverty'] = calc_df['perc_Poverty']"
   ]
  },
  {
   "cell_type": "code",
   "execution_count": 19,
   "id": "a08642f7",
   "metadata": {},
   "outputs": [],
   "source": [
    "tracts.to_file(f'{path_out}\\{json_out}', driver=\"GeoJSON\")"
   ]
  },
  {
   "cell_type": "code",
   "execution_count": null,
   "id": "54dccc6f",
   "metadata": {},
   "outputs": [],
   "source": []
  }
 ],
 "metadata": {
  "kernelspec": {
   "display_name": "dhd_solar",
   "language": "python",
   "name": "dhd_solar"
  },
  "language_info": {
   "codemirror_mode": {
    "name": "ipython",
    "version": 3
   },
   "file_extension": ".py",
   "mimetype": "text/x-python",
   "name": "python",
   "nbconvert_exporter": "python",
   "pygments_lexer": "ipython3",
   "version": "3.9.13"
  }
 },
 "nbformat": 4,
 "nbformat_minor": 5
}
